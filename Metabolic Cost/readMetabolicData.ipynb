{
 "cells": [
  {
   "cell_type": "code",
   "execution_count": 7,
   "metadata": {},
   "outputs": [],
   "source": [
    "import numpy as np\n",
    "import pandas as pd\n",
    "import os\n",
    "import myFunc\n",
    "import matplotlib.pyplot as plt\n",
    "\n",
    "start = 720\n",
    "end = 3420\n",
    "mass = 60\n",
    "\n",
    "subjectID = [\"AB1\"]\n",
    "sessionNum = [\"2\", \"3\", \"4\", \"5\"]\n",
    "processedData = np.empty((4,))\n",
    "for idx in range(4):\n",
    "    processedData[idx] = np.empty((2700,0))\n",
    "\n",
    "print(processedData[3])\n",
    "\n",
    "# for subject in subjectID:\n",
    "#     for session in sessionNum:\n",
    "#         filename = subject + \"_Metabolics_Session\" + session\n",
    "\n",
    "#         for file in os.listdir():\n",
    "#             if file.startswith(filename):\n",
    "#                 rSpeed = int(file.split(\"Right\")[1].split(\"_\")[0])\n",
    "#                 lSpeed = int(file.split(\"Right\")[1].split(\"Left\")[1].split(\".\")[0])\n",
    "#                 if rSpeed == 10:\n",
    "#                     deltaSpeed = [6, 8, 12, 14].index(lSpeed)\n",
    "#                 else:\n",
    "#                     deltaSpeed = [6, 8, 12, 14].index(rSpeed)\n",
    "#                 print(deltaSpeed)\n",
    "\n",
    "#                 data = myFunc.computeMetabolics(file, mass, start, end)\n",
    "#                 data = np.expand_dims(data, axis=1)\n",
    "                \n",
    "#                 processedData[deltaSpeed] = np.column_stack((processedData[deltaSpeed], data))\n",
    "#                 deltaSpeed \n",
    "\n",
    "# plt.plot(processedData)\n",
    "# plt.show()\n"
   ]
  }
 ],
 "metadata": {
  "interpreter": {
   "hash": "8f2fc3d90a2d1c5a3aed78aaf2fd990f9bb693f4b1fe8abbb18c0bb65da678b5"
  },
  "kernelspec": {
   "display_name": "Python 3.10.2 64-bit",
   "language": "python",
   "name": "python3"
  },
  "language_info": {
   "codemirror_mode": {
    "name": "ipython",
    "version": 3
   },
   "file_extension": ".py",
   "mimetype": "text/x-python",
   "name": "python",
   "nbconvert_exporter": "python",
   "pygments_lexer": "ipython3",
   "version": "3.10.2"
  },
  "orig_nbformat": 4
 },
 "nbformat": 4,
 "nbformat_minor": 2
}
