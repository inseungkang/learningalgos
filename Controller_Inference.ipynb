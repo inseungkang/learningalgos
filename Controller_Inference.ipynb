{
  "nbformat": 4,
  "nbformat_minor": 0,
  "metadata": {
    "colab": {
      "name": "Controller Inference.ipynb",
      "provenance": [],
      "collapsed_sections": [],
      "mount_file_id": "18svXP0Vwo6qtFCWZ-app_UvHnfAjTyjS",
      "authorship_tag": "ABX9TyNhgWopLV9DzDlAIkl2wni1",
      "include_colab_link": true
    },
    "kernelspec": {
      "name": "python3",
      "display_name": "Python 3"
    },
    "language_info": {
      "name": "python"
    }
  },
  "cells": [
    {
      "cell_type": "markdown",
      "metadata": {
        "id": "view-in-github",
        "colab_type": "text"
      },
      "source": [
        "<a href=\"https://colab.research.google.com/github/inseungkang/learningalgos/blob/main/Controller_Inference.ipynb\" target=\"_parent\"><img src=\"https://colab.research.google.com/assets/colab-badge.svg\" alt=\"Open In Colab\"/></a>"
      ]
    },
    {
      "cell_type": "code",
      "execution_count": null,
      "metadata": {
        "colab": {
          "base_uri": "https://localhost:8080/"
        },
        "id": "wQHkBbNsu-NX",
        "outputId": "231a5b45-d734-4d83-df53-b4b2b8b6dd21"
      },
      "outputs": [
        {
          "output_type": "stream",
          "name": "stdout",
          "text": [
            "Drive already mounted at /content/drive; to attempt to forcibly remount, call drive.mount(\"/content/drive\", force_remount=True).\n",
            "/content/drive/My Drive/Inseung_LearningAlgos\n",
            "Collecting c3d\n",
            "  Downloading c3d-0.5.1-py3-none-any.whl (31 kB)\n",
            "Requirement already satisfied: numpy<2,>=1 in /usr/local/lib/python3.7/dist-packages (from c3d) (1.21.5)\n",
            "Installing collected packages: c3d\n",
            "Successfully installed c3d-0.5.1\n"
          ]
        }
      ],
      "source": [
        "# from google.colab import drivedrive.mount('/content/drive', force_remount=True)\n",
        "\n",
        "from google.colab import drive\n",
        "drive.mount('/content/drive')\n",
        "\n",
        "%cd /content/drive/My Drive/Inseung_LearningAlgos/\n",
        "!pip3 install c3d\n",
        "\n",
        "import numpy as np\n",
        "import pandas as pd\n",
        "import os\n",
        "import fnmatch\n",
        "import c3d\n",
        "import matplotlib.pyplot as plt"
      ]
    },
    {
      "cell_type": "code",
      "source": [
        "file_name = os.listdir()\n",
        "print()"
      ],
      "metadata": {
        "colab": {
          "base_uri": "https://localhost:8080/"
        },
        "id": "pxGSw0syvpRE",
        "outputId": "646d00f7-7386-4488-af34-dd0843240e79"
      },
      "execution_count": null,
      "outputs": [
        {
          "output_type": "stream",
          "name": "stdout",
          "text": [
            "AB1_Session1_Right10_Left10.npz  AB3_Session3_Right10_Left8.npz\n",
            "AB1_Session1_Right12_Left12.npz  AB3_Session3_Static.npz\n",
            "AB1_Session1_Right14_Left14.npz  AB3_Session4_Right10_Left14.npz\n",
            "AB1_Session1_Right6_Left6.npz\t AB3_Session4_Static.npz\n",
            "AB1_Session1_Right8_Left8.npz\t AB3_Session5_Right10_Left12.npz\n",
            "AB1_Session1_Static.npz\t\t AB3_Session5_Static.npz\n",
            "AB1_Session2_Right10_Left8.npz\t AB4_Session1_Right10_Left10.npz\n",
            "AB1_Session2_Static.npz\t\t AB4_Session1_Right12_Left12.npz\n",
            "AB1_Session3_Right10_Left14.npz  AB4_Session1_Right14_Left14.npz\n",
            "AB1_Session3_Static.npz\t\t AB4_Session1_Right6_Left6.npz\n",
            "AB1_Session4_Right10_Left12.npz  AB4_Session1_Right8_Left8.npz\n",
            "AB1_Session4_Static.npz\t\t AB4_Session1_Static.npz\n",
            "AB1_Session5_Right10_Left6.npz\t AB4_Session2_Right12_Left10.npz\n",
            "AB1_Session5_Static.npz\t\t AB4_Session2_Static.npz\n",
            "AB2_Session1_Right10_Left10.npz  AB4_Session3_Right6_Left10.npz\n",
            "AB2_Session1_Right12_Left12.npz  AB4_Session3_Static.npz\n",
            "AB2_Session1_Right14_Left14.npz  AB4_Session4_Right14_Left10.npz\n",
            "AB2_Session1_Right6_Left6.npz\t AB4_Session4_Static.npz\n",
            "AB2_Session1_Right8_Left8.npz\t AB4_Session5_Right8_Left10.npz\n",
            "AB2_Session1_Static.npz\t\t AB4_Session5_Static.npz\n",
            "AB2_Session2_Right14_Left10.npz  AB5_Session1_Right10_Left10.npz\n",
            "AB2_Session2_Static.npz\t\t AB5_Session1_Right12_Left12.npz\n",
            "AB2_Session3_Right12_Left10.npz  AB5_Session1_Right14_Left14.npz\n",
            "AB2_Session3_Static.npz\t\t AB5_Session1_Right6_Left6.npz\n",
            "AB2_Session4_Right6_Left10.npz\t AB5_Session1_Right8_Left8.npz\n",
            "AB2_Session4_Static.npz\t\t AB5_Session1_Static.npz\n",
            "AB2_Session5_Right8_Left10.npz\t AB5_Session2_Right10_Left12.npz\n",
            "AB2_Session5_Static.npz\t\t AB5_Session2_Static.npz\n",
            "AB3_Session1_RIght10_Left10.npz  AB5_Session3_Right10_Left14.npz\n",
            "AB3_Session1_Right12_Left12.npz  AB5_Session3_Static.npz\n",
            "AB3_Session1_Right14_Left14.npz  AB5_Session4_Right10_Left8.npz\n",
            "AB3_Session1_Right6_Left6.npz\t AB5_Session4_Static.npz\n",
            "AB3_Session1_Right8_Left8.npz\t AB5_Session5_Right10_Left6.npz\n",
            "AB3_Session1_Static.npz\t\t AB5_Session5_Static.npz\n",
            "AB3_Session2_Right10_Left6.npz\t filename.txt\n",
            "AB3_Session2_Static.npz\n"
          ]
        }
      ]
    }
  ]
}