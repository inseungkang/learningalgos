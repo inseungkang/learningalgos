{
  "nbformat": 4,
  "nbformat_minor": 0,
  "metadata": {
    "colab": {
      "name": "Controller Inference.ipynb",
      "provenance": [],
      "collapsed_sections": [],
      "mount_file_id": "18svXP0Vwo6qtFCWZ-app_UvHnfAjTyjS",
      "authorship_tag": "ABX9TyMle4KtFCMHm0vjphVFpVwL",
      "include_colab_link": true
    },
    "kernelspec": {
      "name": "python3",
      "display_name": "Python 3"
    },
    "language_info": {
      "name": "python"
    }
  },
  "cells": [
    {
      "cell_type": "markdown",
      "metadata": {
        "id": "view-in-github",
        "colab_type": "text"
      },
      "source": [
        "<a href=\"https://colab.research.google.com/github/inseungkang/learningalgos/blob/main/Controller_Inference.ipynb\" target=\"_parent\"><img src=\"https://colab.research.google.com/assets/colab-badge.svg\" alt=\"Open In Colab\"/></a>"
      ]
    },
    {
      "cell_type": "code",
      "execution_count": 1,
      "metadata": {
        "colab": {
          "base_uri": "https://localhost:8080/"
        },
        "id": "wQHkBbNsu-NX",
        "outputId": "ce2f01ce-d276-4c7d-a7ec-ecaf55a8fd3c"
      },
      "outputs": [
        {
          "output_type": "stream",
          "name": "stdout",
          "text": [
            "Drive already mounted at /content/drive; to attempt to forcibly remount, call drive.mount(\"/content/drive\", force_remount=True).\n",
            "/content/drive/My Drive/Inseung_LearningAlgos\n",
            "Requirement already satisfied: c3d in /usr/local/lib/python3.7/dist-packages (0.5.1)\n",
            "Requirement already satisfied: numpy<2,>=1 in /usr/local/lib/python3.7/dist-packages (from c3d) (1.21.5)\n"
          ]
        }
      ],
      "source": [
        "# from google.colab import drivedrive.mount('/content/drive', force_remount=True)\n",
        "\n",
        "from google.colab import drive\n",
        "drive.mount('/content/drive')\n",
        "\n",
        "%cd /content/drive/My Drive/Inseung_LearningAlgos/\n",
        "!pip3 install c3d\n",
        "\n",
        "import numpy as np\n",
        "import pandas as pd\n",
        "import os\n",
        "import fnmatch\n",
        "import c3d\n",
        "import matplotlib.pyplot as plt"
      ]
    },
    {
      "cell_type": "code",
      "source": [
        "# This is mainly for the tied-belt trials\n",
        "# Extract maker header location from each c3d files\n",
        "\n",
        "file_dir = '/content/drive/My Drive/Inseung_LearningAlgos/c3d files/'\n",
        "file_list = os.listdir('/content/drive/My Drive/Inseung_LearningAlgos/c3d files/')\n",
        "file_list.sort()\n",
        "header_col_list = []\n",
        "for filename in file_list:\n",
        "  reader = c3d.Reader(open(file_dir+filename, 'rb'))\n",
        "  markerLabel = reader.point_labels\n",
        "  markerName = ['RASI','LASI','RPSI','LPSI','RANL','LANL']\n",
        "  header_list = []\n",
        "  for _, name in enumerate(markerName):\n",
        "    for idx, label in enumerate(markerLabel):\n",
        "      if name == label.strip():\n",
        "        header_list.append(idx)\n",
        "        # /(idx)\n",
        "  header_col_list.append(header_list)\n",
        "\n",
        "# file_list = [i for i in file_list if 'Session1_R' in i]\n"
      ],
      "metadata": {
        "id": "_oMaR--gjJ8-"
      },
      "execution_count": 2,
      "outputs": []
    },
    {
      "cell_type": "code",
      "source": [
        "# from npz files, open the file and truncate data to sync the data so we can extract 6 min of walking data (using the sync force plate)\n",
        "# main trial started after the rising edge of the synce force plate\n",
        "npz_dir = '/content/drive/My Drive/Inseung_LearningAlgos/npz files/'\n",
        "test_file_name = 'AB1_Session1_Right10_Left10.npz'\n",
        "test_file_header = header_col_list[0]\n",
        "\n",
        "with np.load(npz_dir+test_file_name) as data:\n",
        "  marker_data = data['points']\n",
        "  force_data = data['analog']\n",
        "\n",
        "force_sync = np.mean(force_data[:,14,:], axis=1)\n",
        "start_idx = np.argwhere(abs(force_sync) > np.max(abs(force_sync)/2))[0,0]\n",
        "end_idx = start_idx + 6*6000        #6 min of walking\n",
        "\n",
        "foot_r = marker_data[start_idx:end_idx, test_file_header[4], 0:3]\n",
        "foot_l = marker_data[start_idx:end_idx, test_file_header[5], 0:3]\n",
        "com = np.mean(marker_data[start_idx:end_idx, test_file_header[0:4], 0:3], axis=1)\n",
        "force_r = np.mean(force_data[start_idx:end_idx, 0:3, :], axis=2)\n",
        "force_l = np.mean(force_data[start_idx:end_idx, 6:9, :], axis=2)"
      ],
      "metadata": {
        "id": "pxGSw0syvpRE"
      },
      "execution_count": 3,
      "outputs": []
    },
    {
      "cell_type": "code",
      "source": [
        "TreadmillSpeed = 1\n",
        "frac_distance_from_midstance_list = 0\n",
        "\n",
        "# Compute gait event index number (left and right). This will be in the order of left mid stance, right heel contact, right mid stance, and left heel contact\n",
        "# This will be used to compute the com state during mid stance and evaluate the foot placement in the following heel contact\n",
        "# here, using the com y position and foot y position, compute the mid stance (zero crossing) and heel contact (min value) from the signal: diff(com, foot)\n",
        "# this is because com y location will be negative when the foot y is front of com and vice versa\n",
        "\n",
        "\n",
        "# left heel contact and mid stance index based on COM Y position subtracted from left foot Y \n",
        "COM_Y_l = com[:,1] - foot_l[:,1]\n",
        "zc = np.where(np.diff(np.sign(COM_Y_l)))[0]\n",
        "\n",
        "hc_l = []\n",
        "ms_l = []\n",
        "for idx, value in enumerate(zc):\n",
        "  if COM_Y_l[value+1] < 0:\n",
        "    if idx < len(zc)-1:\n",
        "      min_point = np.argmin(COM_Y_l[zc[idx]:zc[idx+1]])\n",
        "      hc_idx = value+min_point\n",
        "      ms_idx = zc[idx+1]\n",
        "      hc_l.append(hc_idx)\n",
        "      ms_l.append(ms_idx)\n",
        "\n",
        "# right heel contact and mid stance index based on COM Y position subtracted from right foot Y \n",
        "COM_Y_r = com[:,1] - foot_r[:,1]\n",
        "zc = np.where(np.diff(np.sign(COM_Y_r)))[0]\n",
        "\n",
        "hc_r = []\n",
        "ms_r = []\n",
        "for idx, value in enumerate(zc):\n",
        "  if COM_Y_r[value+1] < 0:\n",
        "    if idx < len(zc)-1:\n",
        "      min_point = np.argmin(COM_Y_r[zc[idx]:zc[idx+1]])\n",
        "      hc_idx = value+min_point\n",
        "      ms_idx = zc[idx+1]\n",
        "      hc_r.append(hc_idx)\n",
        "      ms_r.append(ms_idx)\n"
      ],
      "metadata": {
        "id": "iMAztZl5uKAo"
      },
      "execution_count": 50,
      "outputs": []
    },
    {
      "cell_type": "code",
      "source": [
        "# mid stance and heel contact index for left and right might match in size so truncate the first on to match the MX4 size and concatenate\n",
        "# order of the gait event every loop is: ms_l, hc_r, ms_r, hc_l\n",
        "\n",
        "gait_event_idx = np.zeros((0,4))\n",
        "for idx, x in enumerate(ms_l):\n",
        "\n",
        "  if idx+1 > len(hc_r)-1 or idx+1 > len(ms_r)-1 or idx+1 > len(hc_l)-1:\n",
        "    break\n",
        "\n",
        "  a = x\n",
        "\n",
        "  if a < hc_r[idx]:\n",
        "    b = hc_r[idx]\n",
        "  else:\n",
        "    b = hc_r[idx+1]\n",
        "\n",
        "  if b < ms_r[idx]:\n",
        "    c = ms_r[idx]\n",
        "  else:\n",
        "    c = ms_r[idx+1]\n",
        "\n",
        "  if c < hc_l[idx]:\n",
        "    d = hc_l[idx]\n",
        "  else:\n",
        "    d = hc_l[idx+1]\n",
        "  \n",
        "  gait_vec = np.array([a, b, c, d])\n",
        "  gait_event_idx = np.row_stack((gait_event_idx, gait_vec))"
      ],
      "metadata": {
        "id": "rq40KAODTNNW"
      },
      "execution_count": 102,
      "outputs": []
    },
    {
      "cell_type": "code",
      "source": [
        "# Obtain state vector for pelvis this is combination of position and velocity which was differentiated\n",
        "COM_X = com[:,0]\n",
        "COM_Z = com[:,2]\n",
        "COM_XX = np.append(np.diff(com[:,0]), np.diff(com[:,0])[-1])\n",
        "COM_YY = np.append(np.diff(com[:,1]), np.diff(com[:,1])[-1])\n",
        "COM_ZZ = np.append(np.diff(com[:,2]), np.diff(com[:,2])[-1])\n",
        "COM_state = np.transpose(np.asmatrix((COM_X, COM_Z, COM_XX, COM_YY, COM_ZZ)))\n",
        "# Obtain foot placement vector (X, Y). This is only the position vector but we need to subtract the relevant COM position to obtain foot place relative to the COM\n",
        "footXY_l = np.column_stack((foot_l[:,0] - com[:,0], foot_l[:,1] - com[:,1]))\n",
        "footXY_r = np.column_stack((foot_r[:,0] - com[:,0], foot_r[:,1] - com[:,1]))\n",
        "\n",
        "# Obtain COM state and foot placement at mid stance / heel contact for left and right leg using the corresponding gait event index\n",
        "COM_ms_l = COM_state[[int(i) for i in gait_event_idx[:,0].tolist()]]\n",
        "COM_ms_r = COM_state[[int(i) for i in gait_event_idx[:,2].tolist()]]\n",
        "footXY_hc_l = footXY_l[[int(i) for i in gait_event_idx[:,3].tolist()]]\n",
        "footXY_hc_r = footXY_r[[int(i) for i in gait_event_idx[:,1].tolist()]]\n",
        "\n",
        "# compute the nominal P_star and Q_star which is just a mean value during certain part of the gait cycle (mid stance / heel contact)\n",
        "COM_ms_norm_l = np.mean(COM_ms_l, axis=0)\n",
        "COM_ms_norm_r = np.mean(COM_ms_r, axis=0)\n",
        "footXY_hc_norm_l = np.mean(footXY_hc_l, axis=0)\n",
        "footXY_hc_norm_r = np.mean(footXY_hc_r, axis=0)\n",
        "\n",
        "delta_P = COM_ms_l - COM_ms_norm_l\n",
        "delta_Q = footXY_hc_r - footXY_hc_norm_r\n",
        "\n",
        "\n",
        "\n",
        "\n",
        "\n",
        "\n",
        "\n",
        "# y1 = np.zeros(len(ms_l))\n",
        "# y2 = np.zeros(len(hc_l))\n",
        "\n",
        "# plt.plot(test)\n",
        "# plt.plot(ms_l, y1, 'o')\n",
        "# plt.plot(hc_l, y2, 'x')\n",
        "\n",
        "# plt.xlim(1, 1000)\n",
        "# plt.show()"
      ],
      "metadata": {
        "id": "ntFtB044Xk4v",
        "outputId": "516f5278-d968-480b-8803-266c252bd9ba",
        "colab": {
          "base_uri": "https://localhost:8080/",
          "height": 265
        }
      },
      "execution_count": 158,
      "outputs": [
        {
          "output_type": "display_data",
          "data": {
            "text/plain": [
              "<Figure size 432x288 with 1 Axes>"
            ],
            "image/png": "[encoded data removed]"
          },
          "metadata": {
            "needs_background": "light"
          }
        }
      ]
    }
  ]
}