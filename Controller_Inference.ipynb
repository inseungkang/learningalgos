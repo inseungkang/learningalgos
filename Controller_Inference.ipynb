{
  "nbformat": 4,
  "nbformat_minor": 0,
  "metadata": {
    "colab": {
      "name": "Controller Inference.ipynb",
      "provenance": [],
      "collapsed_sections": [],
      "mount_file_id": "18svXP0Vwo6qtFCWZ-app_UvHnfAjTyjS",
      "authorship_tag": "ABX9TyN5BiziOlOlyMY2RUucFGqM",
      "include_colab_link": true
    },
    "kernelspec": {
      "name": "python3",
      "display_name": "Python 3"
    },
    "language_info": {
      "name": "python"
    }
  },
  "cells": [
    {
      "cell_type": "markdown",
      "metadata": {
        "id": "view-in-github",
        "colab_type": "text"
      },
      "source": [
        "<a href=\"https://colab.research.google.com/github/inseungkang/learningalgos/blob/main/Controller_Inference.ipynb\" target=\"_parent\"><img src=\"https://colab.research.google.com/assets/colab-badge.svg\" alt=\"Open In Colab\"/></a>"
      ]
    },
    {
      "cell_type": "code",
      "execution_count": 62,
      "metadata": {
        "colab": {
          "base_uri": "https://localhost:8080/",
          "height": 311
        },
        "id": "wQHkBbNsu-NX",
        "outputId": "a756c815-1ed2-4cfb-eab6-dcb464086c5d"
      },
      "outputs": [
        {
          "output_type": "stream",
          "name": "stdout",
          "text": [
            "Drive already mounted at /content/drive; to attempt to forcibly remount, call drive.mount(\"/content/drive\", force_remount=True).\n",
            "/content/drive/My Drive/Inseung_LearningAlgos\n",
            "Requirement already satisfied: c3d in /usr/local/lib/python3.7/dist-packages (0.5.1)\n",
            "Requirement already satisfied: numpy<2,>=1 in /usr/local/lib/python3.7/dist-packages (from c3d) (1.21.5)\n",
            "Error in callback <bound method VariableInspectorWindow._fill of <__main__.VariableInspectorWindow object at 0x7f6d64eabb10>> (for post_run_cell):\n"
          ]
        },
        {
          "output_type": "error",
          "ename": "TypeError",
          "evalue": "ignored",
          "traceback": [
            "\u001b[0;31m---------------------------------------------------------------------------\u001b[0m",
            "\u001b[0;31mTypeError\u001b[0m                                 Traceback (most recent call last)",
            "\u001b[0;31mTypeError\u001b[0m: _fill() missing 1 required positional argument: '_result'"
          ]
        },
        {
          "output_type": "stream",
          "name": "stdout",
          "text": [
            "Error in callback <bound method VariableInspectorWindow._fill of <__main__.VariableInspectorWindow object at 0x7f6d64ea98d0>> (for post_run_cell):\n"
          ]
        },
        {
          "output_type": "error",
          "ename": "TypeError",
          "evalue": "ignored",
          "traceback": [
            "\u001b[0;31m---------------------------------------------------------------------------\u001b[0m",
            "\u001b[0;31mTypeError\u001b[0m                                 Traceback (most recent call last)",
            "\u001b[0;31mTypeError\u001b[0m: _fill() missing 1 required positional argument: '_result'"
          ]
        }
      ],
      "source": [
        "# from google.colab import drivedrive.mount('/content/drive', force_remount=True)\n",
        "\n",
        "from google.colab import drive\n",
        "drive.mount('/content/drive')\n",
        "\n",
        "%cd /content/drive/My Drive/Inseung_LearningAlgos/\n",
        "!pip3 install c3d\n",
        "\n",
        "import numpy as np\n",
        "import pandas as pd\n",
        "import os\n",
        "import fnmatch\n",
        "import c3d\n",
        "import matplotlib.pyplot as plt"
      ]
    },
    {
      "cell_type": "code",
      "source": [
        "# This is mainly for the tied-belt trials\n",
        "# Extract maker header location from each c3d files\n",
        "\n",
        "file_dir = '/content/drive/My Drive/Inseung_LearningAlgos/c3d files/'\n",
        "file_list = os.listdir('/content/drive/My Drive/Inseung_LearningAlgos/c3d files/')\n",
        "file_list.sort()\n",
        "header_col_list = []\n",
        "for filename in file_list:\n",
        "  reader = c3d.Reader(open(file_dir+filename, 'rb'))\n",
        "  markerLabel = reader.point_labels\n",
        "  markerName = ['RASI','LASI','RPSI','LPSI','RANL','LANL']\n",
        "  header_list = []\n",
        "  for _, name in enumerate(markerName):\n",
        "    for idx, label in enumerate(markerLabel):\n",
        "      if name == label.strip():\n",
        "        header_list.append(idx)\n",
        "        # /(idx)\n",
        "  header_col_list.append(header_list)\n",
        "\n",
        "# file_list = [i for i in file_list if 'Session1_R' in i]\n"
      ],
      "metadata": {
        "colab": {
          "base_uri": "https://localhost:8080/"
        },
        "id": "_oMaR--gjJ8-",
        "outputId": "9834e034-358f-45b9-9f4b-40e36dcf4d08"
      },
      "execution_count": 41,
      "outputs": [
        {
          "output_type": "stream",
          "name": "stdout",
          "text": [
            "AB1_Session1_Right10_Left10.c3d\n",
            "AB1_Session1_Right12_Left12.c3d\n",
            "AB1_Session1_Right14_Left14.c3d\n",
            "AB1_Session1_Right6_Left6.c3d\n",
            "AB1_Session1_Right8_Left8.c3d\n",
            "AB2_Session1_Right10_Left10.c3d\n",
            "AB2_Session1_Right12_Left12.c3d\n",
            "AB2_Session1_Right14_Left14.c3d\n",
            "AB2_Session1_Right6_Left6.c3d\n",
            "AB2_Session1_Right8_Left8.c3d\n",
            "AB3_Session1_RIght10_Left10.c3d\n",
            "AB3_Session1_Right12_Left12.c3d\n",
            "AB3_Session1_Right14_Left14.c3d\n",
            "AB3_Session1_Right6_Left6.c3d\n",
            "AB3_Session1_Right8_Left8.c3d\n",
            "AB4_Session1_Right10_Left10.c3d\n",
            "AB4_Session1_Right12_Left12.c3d\n",
            "AB4_Session1_Right14_Left14.c3d\n",
            "AB4_Session1_Right6_Left6.c3d\n",
            "AB4_Session1_Right8_Left8.c3d\n",
            "AB5_Session1_Right10_Left10.c3d\n",
            "AB5_Session1_Right12_Left12.c3d\n",
            "AB5_Session1_Right14_Left14.c3d\n",
            "AB5_Session1_Right6_Left6.c3d\n",
            "AB5_Session1_Right8_Left8.c3d\n"
          ]
        }
      ]
    },
    {
      "cell_type": "code",
      "source": [
        "# from npz files, open the file and truncate data to sync the data so we can extract 6 min of walking data (using the sync force plate)\n",
        "# main trial started after the rising edge of the synce force plate\n",
        "npz_dir = '/content/drive/My Drive/Inseung_LearningAlgos/npz files/'\n",
        "test_file_name = 'AB1_Session1_Right10_Left10.npz'\n",
        "test_file_header = header_col_list[0]\n",
        "\n",
        "with np.load(npz_dir+test_file_name) as data:\n",
        "  marker_data = data['points']\n",
        "  force_data = data['analog']\n",
        "\n",
        "force_sync = np.mean(force_data[:,14,:], axis=1)\n",
        "start_idx = np.argwhere(abs(force_sync) > np.max(abs(force_sync)/2))[0,0]\n",
        "end_idx = start_idx + 6*6000        #6 min of walking\n",
        "\n",
        "foot_r = marker_data[start_idx:end_idx, test_file_header[4], 0:3]\n",
        "foot_l = marker_data[start_idx:end_idx, test_file_header[5], 0:3]\n",
        "com = np.mean(marker_data[start_idx:end_idx, test_file_header[0:4], 0:3], axis=1)\n",
        "force_r = np.mean(force_data[start_idx:end_idx, 0:3, :], axis=2)\n",
        "force_l = np.mean(force_data[start_idx:end_idx, 6:9, :], axis=2)"
      ],
      "metadata": {
        "id": "pxGSw0syvpRE"
      },
      "execution_count": 43,
      "outputs": []
    },
    {
      "cell_type": "code",
      "source": [
        "TreadmillSpeed = 1\n",
        "frac_distance_from_midstance_list = 0\n",
        "\n",
        "# Compute gait event index number (left and right). This will be in the order of left mid stance, right heel contact, right mid stance, and left heel contact\n",
        "# This will be used to compute the com state during mid stance and evaluate the foot placement in the following heel contact\n",
        "\n",
        "stance_l = np.where(force_l[:,2] < -100, 1, np.zeros(len(force_l[:,2])))\n",
        "stance_start_l = np.where(np.diff(stance_l) == 1)[0]\n",
        "\n",
        "\n"
      ],
      "metadata": {
        "colab": {
          "base_uri": "https://localhost:8080/",
          "height": 243
        },
        "id": "iMAztZl5uKAo",
        "outputId": "8896f7ae-34a6-4270-8c30-cd6ee9f0d5b4"
      },
      "execution_count": 61,
      "outputs": [
        {
          "output_type": "stream",
          "name": "stdout",
          "text": [
            "Error in callback <bound method VariableInspectorWindow._fill of <__main__.VariableInspectorWindow object at 0x7f6d64eabb10>> (for post_run_cell):\n"
          ]
        },
        {
          "output_type": "error",
          "ename": "TypeError",
          "evalue": "ignored",
          "traceback": [
            "\u001b[0;31m---------------------------------------------------------------------------\u001b[0m",
            "\u001b[0;31mTypeError\u001b[0m                                 Traceback (most recent call last)",
            "\u001b[0;31mTypeError\u001b[0m: _fill() missing 1 required positional argument: '_result'"
          ]
        },
        {
          "output_type": "stream",
          "name": "stdout",
          "text": [
            "Error in callback <bound method VariableInspectorWindow._fill of <__main__.VariableInspectorWindow object at 0x7f6d64ea98d0>> (for post_run_cell):\n"
          ]
        },
        {
          "output_type": "error",
          "ename": "TypeError",
          "evalue": "ignored",
          "traceback": [
            "\u001b[0;31m---------------------------------------------------------------------------\u001b[0m",
            "\u001b[0;31mTypeError\u001b[0m                                 Traceback (most recent call last)",
            "\u001b[0;31mTypeError\u001b[0m: _fill() missing 1 required positional argument: '_result'"
          ]
        }
      ]
    }
  ]
}