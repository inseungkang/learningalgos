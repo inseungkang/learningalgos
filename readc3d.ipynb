{
  "nbformat": 4,
  "nbformat_minor": 0,
  "metadata": {
    "colab": {
      "name": "readc3d.ipynb",
      "provenance": [],
      "mount_file_id": "1QJrK9yZV1z_T1JKq7OlbkIVyHsrb1Y_s",
      "authorship_tag": "ABX9TyN84RwJiNpWY9ZpJ0672odg",
      "include_colab_link": true
    },
    "kernelspec": {
      "name": "python3",
      "display_name": "Python 3"
    },
    "language_info": {
      "name": "python"
    }
  },
  "cells": [
    {
      "cell_type": "markdown",
      "metadata": {
        "id": "view-in-github",
        "colab_type": "text"
      },
      "source": [
        "<a href=\"https://colab.research.google.com/github/inseungkang/learningalgos/blob/main/readc3d.ipynb\" target=\"_parent\"><img src=\"https://colab.research.google.com/assets/colab-badge.svg\" alt=\"Open In Colab\"/></a>"
      ]
    },
    {
      "cell_type": "code",
      "execution_count": null,
      "metadata": {
        "id": "naQoyzpfBxml"
      },
      "outputs": [],
      "source": [
        ""
      ]
    }
  ]
}