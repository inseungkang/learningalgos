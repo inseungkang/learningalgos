{
  "nbformat": 4,
  "nbformat_minor": 0,
  "metadata": {
    "colab": {
      "name": "readc3d.ipynb",
      "provenance": [],
      "mount_file_id": "1QJrK9yZV1z_T1JKq7OlbkIVyHsrb1Y_s",
      "authorship_tag": "ABX9TyOJ0hiqC3yt/z3Yr5zZkgxa",
      "include_colab_link": true
    },
    "kernelspec": {
      "name": "python3",
      "display_name": "Python 3"
    },
    "language_info": {
      "name": "python"
    }
  },
  "cells": [
    {
      "cell_type": "markdown",
      "metadata": {
        "id": "view-in-github",
        "colab_type": "text"
      },
      "source": [
        "<a href=\"https://colab.research.google.com/github/inseungkang/learningalgos/blob/main/readc3d.ipynb\" target=\"_parent\"><img src=\"https://colab.research.google.com/assets/colab-badge.svg\" alt=\"Open In Colab\"/></a>"
      ]
    },
    {
      "cell_type": "code",
      "execution_count": 16,
      "metadata": {
        "id": "naQoyzpfBxml",
        "colab": {
          "base_uri": "https://localhost:8080/"
        },
        "outputId": "34e1e3c1-8a77-4edc-e76e-9c4b20142f3a"
      },
      "outputs": [
        {
          "output_type": "stream",
          "name": "stdout",
          "text": [
            "Drive already mounted at /content/drive; to attempt to forcibly remount, call drive.mount(\"/content/drive\", force_remount=True).\n",
            "/content/drive/My Drive/Inseung_LearningAlgos\n",
            "Requirement already satisfied: c3d in /usr/local/lib/python3.7/dist-packages (0.4.0)\n",
            "Requirement already satisfied: numpy in /usr/local/lib/python3.7/dist-packages (from c3d) (1.21.5)\n"
          ]
        }
      ],
      "source": [
        "from google.colab import drive\n",
        "drive.mount('/content/drive')\n",
        "\n",
        "%cd /content/drive/My Drive/Inseung_LearningAlgos/\n",
        "!pip3 install c3d"
      ]
    },
    {
      "cell_type": "code",
      "source": [
        "import numpy as np\n",
        "import pandas as pd\n",
        "import os\n",
        "import c3d\n",
        "\n",
        "file_name = os.listdir()"
      ],
      "metadata": {
        "id": "dngpf1sLEeQ2"
      },
      "execution_count": 21,
      "outputs": []
    },
    {
      "cell_type": "code",
      "source": [
        "markerData = np.empty((36, 5, 1))\n",
        "forceData = np.empty((18, 10, 1))\n",
        "\n",
        "with open(file_name[0], 'rb') as handle:\n",
        "  reader = c3d.Reader(handle)\n",
        "  markerLabel = reader.point_labels\n",
        "  forceLabel = reader.analog_labels\n",
        "  \n",
        "  markerName = ['RASI','LASI','RPSI','LPSI','RANL','LANL']\n",
        "  forceName = ['RASI','LASI','RPSI','LPSI','RANL','LANL']\n",
        "\n",
        "  idxList = []\n",
        "  for _, name in enumerate(markerName):\n",
        "    for idx, label in enumerate(markerLabel):\n",
        "      if name == label.strip():\n",
        "        idxList.append(idx)\n",
        "      \n",
        "  \n",
        "  print(reader.analog_labels)\n",
        "  \n",
        "  # for _, (idx, marker, force) in enumerate(reader.read_frames()):\n",
        "  #   print(reader)\n",
        "  #   markerData = np.concatenate((markerData, np.expand_dims(marker, axis=2)), axis=2)\n",
        "  #   forceData = np.concatenate((forceData, np.expand_dims(force, axis=2)), axis=2)\n",
        "  #   if idx == 200:\n",
        "  #     break"
      ],
      "metadata": {
        "colab": {
          "base_uri": "https://localhost:8080/"
        },
        "id": "3V2oflTiEn3Y",
        "outputId": "6312c6ca-f497-4f33-8386-3b1861fff48e"
      },
      "execution_count": 112,
      "outputs": [
        {
          "output_type": "stream",
          "name": "stdout",
          "text": [
            "[34, 2, 0, 1, 20, 26]\n",
            "['Force.Fx1       ' 'Force.Fy1       ' 'Force.Fz1       '\n",
            " 'Moment.Mx1      ' 'Moment.My1      ' 'Moment.Mz1      '\n",
            " 'Force.Fx2       ' 'Force.Fy2       ' 'Force.Fz2       '\n",
            " 'Moment.Mx2      ' 'Moment.My2      ' 'Moment.Mz2      '\n",
            " 'Force.Fx3       ' 'Force.Fy3       ' 'Force.Fz3       '\n",
            " 'Moment.Mx3      ' 'Moment.My3      ' 'Moment.Mz3      ']\n"
          ]
        }
      ]
    },
    {
      "cell_type": "code",
      "source": [
        "print(forceData.shape)\n",
        "print(markerData.shape)"
      ],
      "metadata": {
        "id": "_VOZ5-AbU56M",
        "outputId": "9328f137-7e41-49da-9ab6-62780f1a0961",
        "colab": {
          "base_uri": "https://localhost:8080/"
        }
      },
      "execution_count": 39,
      "outputs": [
        {
          "output_type": "stream",
          "name": "stdout",
          "text": [
            "(18, 10, 6001)\n",
            "(36, 5, 6001)\n"
          ]
        }
      ]
    },
    {
      "cell_type": "code",
      "source": [
        "FILE = file_name[0]\n",
        "!c3d2npz AB1_Session1_Right14_Left14.c3d"
      ],
      "metadata": {
        "id": "dMEgxA5EVGk7",
        "outputId": "09976f4b-ca17-4a1b-b99f-2af3f3cdad9a",
        "colab": {
          "base_uri": "https://localhost:8080/"
        }
      },
      "execution_count": 128,
      "outputs": [
        {
          "output_type": "stream",
          "name": "stdout",
          "text": [
            "AB1_Session1_Right14_Left14.npz: saved 38148 x (36, 5) points, 38148 (18, 10) analog\n"
          ]
        }
      ]
    },
    {
      "cell_type": "code",
      "source": [
        "!c3d-metadata AB1_Session1_Right10_Left10.c3d"
      ],
      "metadata": {
        "id": "pc6PZmmhb8-C"
      },
      "execution_count": null,
      "outputs": []
    },
    {
      "cell_type": "code",
      "source": [
        "import matplotlib.pyplot as plt\n",
        "\n",
        "indexList = [34, 2, 0, 1, 20, 26]\n",
        "b = np.load('AB1_Session1_Right14_Left14.npz')\n",
        "markerData = b['points']\n",
        "forceData = b['analog']\n",
        "\n",
        "# Extract all raw data into relevant marker and force data\n",
        "# Truncate data with a sync force plate (for session 1, extracting 6 min)\n",
        "force_sync = np.mean(forceData[:,14,:], axis=1)\n",
        "\n",
        "trial_time = 6\n",
        "start_idx = np.argwhere(abs(force_sync) > np.max(abs(force_sync))/2)[0,0]\n",
        "end_idx = start_idx + trial_time*6000\n",
        "\n",
        "foot_r = markerData[start_idx:end_idx, indexList[4], 0:3]\n",
        "foot_l = markerData[start_idx:end_idx, indexList[5], 0:3]\n",
        "com = np.mean(markerData[start_idx:end_idx, indexList[0:4], 0:3], axis=1)\n",
        "force_r = np.mean(forceData[start_idx:end_idx, 0:3, :], axis=2)\n",
        "force_l = np.mean(forceData[start_idx:end_idx, 6:9, :], axis=2)\n",
        "\n",
        "# plt.plot(force_sync)\n",
        "plot()\n"
      ],
      "metadata": {
        "id": "EGeXTcyLaAo0",
        "outputId": "18539a08-d391-480a-ae53-bbe238f20167",
        "colab": {
          "base_uri": "https://localhost:8080/"
        }
      },
      "execution_count": 149,
      "outputs": [
        {
          "output_type": "stream",
          "name": "stdout",
          "text": [
            "(36000, 3)\n"
          ]
        }
      ]
    }
  ]
}