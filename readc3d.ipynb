{
  "nbformat": 4,
  "nbformat_minor": 0,
  "metadata": {
    "colab": {
      "name": "readc3d.ipynb",
      "provenance": [],
      "mount_file_id": "1QJrK9yZV1z_T1JKq7OlbkIVyHsrb1Y_s",
      "authorship_tag": "ABX9TyPdRIbvUhQHyuPKbauC5HI0",
      "include_colab_link": true
    },
    "kernelspec": {
      "name": "python3",
      "display_name": "Python 3"
    },
    "language_info": {
      "name": "python"
    }
  },
  "cells": [
    {
      "cell_type": "markdown",
      "metadata": {
        "id": "view-in-github",
        "colab_type": "text"
      },
      "source": [
        "<a href=\"https://colab.research.google.com/github/inseungkang/learningalgos/blob/main/readc3d.ipynb\" target=\"_parent\"><img src=\"https://colab.research.google.com/assets/colab-badge.svg\" alt=\"Open In Colab\"/></a>"
      ]
    },
    {
      "cell_type": "code",
      "execution_count": 16,
      "metadata": {
        "id": "naQoyzpfBxml",
        "colab": {
          "base_uri": "https://localhost:8080/"
        },
        "outputId": "34e1e3c1-8a77-4edc-e76e-9c4b20142f3a"
      },
      "outputs": [
        {
          "output_type": "stream",
          "name": "stdout",
          "text": [
            "Drive already mounted at /content/drive; to attempt to forcibly remount, call drive.mount(\"/content/drive\", force_remount=True).\n",
            "/content/drive/My Drive/Inseung_LearningAlgos\n",
            "Requirement already satisfied: c3d in /usr/local/lib/python3.7/dist-packages (0.4.0)\n",
            "Requirement already satisfied: numpy in /usr/local/lib/python3.7/dist-packages (from c3d) (1.21.5)\n"
          ]
        }
      ],
      "source": [
        "from google.colab import drive\n",
        "drive.mount('/content/drive')\n",
        "\n",
        "%cd /content/drive/My Drive/Inseung_LearningAlgos/\n",
        "!pip3 install c3d"
      ]
    },
    {
      "cell_type": "code",
      "source": [
        "import numpy as np\n",
        "import pandas as pd\n",
        "import os\n",
        "import c3d\n",
        "import matplotlib.pyplot as plt\n",
        "\n",
        "file_name = os.listdir()"
      ],
      "metadata": {
        "id": "dngpf1sLEeQ2"
      },
      "execution_count": 21,
      "outputs": []
    },
    {
      "cell_type": "code",
      "source": [
        "markerData = np.empty((36, 5, 1))\n",
        "forceData = np.empty((18, 10, 1))\n",
        "\n",
        "with open(file_name[0], 'rb') as handle:\n",
        "  reader = c3d.Reader(handle)\n",
        "  markerLabel = reader.point_labels\n",
        "  forceLabel = reader.analog_labels\n",
        "  \n",
        "  markerName = ['RASI','LASI','RPSI','LPSI','RANL','LANL']\n",
        "  forceName = ['RASI','LASI','RPSI','LPSI','RANL','LANL']\n",
        "\n",
        "  idxList = []\n",
        "  for _, name in enumerate(markerName):\n",
        "    for idx, label in enumerate(markerLabel):\n",
        "      if name == label.strip():\n",
        "        idxList.append(idx)\n",
        "      \n",
        "  \n",
        "  print(reader.analog_labels)\n",
        "  \n",
        "  # for _, (idx, marker, force) in enumerate(reader.read_frames()):\n",
        "  #   print(reader)\n",
        "  #   markerData = np.concatenate((markerData, np.expand_dims(marker, axis=2)), axis=2)\n",
        "  #   forceData = np.concatenate((forceData, np.expand_dims(force, axis=2)), axis=2)\n",
        "  #   if idx == 200:\n",
        "  #     break"
      ],
      "metadata": {
        "colab": {
          "base_uri": "https://localhost:8080/"
        },
        "id": "3V2oflTiEn3Y",
        "outputId": "6312c6ca-f497-4f33-8386-3b1861fff48e"
      },
      "execution_count": 112,
      "outputs": [
        {
          "output_type": "stream",
          "name": "stdout",
          "text": [
            "[34, 2, 0, 1, 20, 26]\n",
            "['Force.Fx1       ' 'Force.Fy1       ' 'Force.Fz1       '\n",
            " 'Moment.Mx1      ' 'Moment.My1      ' 'Moment.Mz1      '\n",
            " 'Force.Fx2       ' 'Force.Fy2       ' 'Force.Fz2       '\n",
            " 'Moment.Mx2      ' 'Moment.My2      ' 'Moment.Mz2      '\n",
            " 'Force.Fx3       ' 'Force.Fy3       ' 'Force.Fz3       '\n",
            " 'Moment.Mx3      ' 'Moment.My3      ' 'Moment.Mz3      ']\n"
          ]
        }
      ]
    },
    {
      "cell_type": "code",
      "source": [
        "!c3d2npz AB1_Session1_Right14_Left14.c3d\n",
        "# !c3d-metadata AB1_Session1_Right10_Left10.c3d"
      ],
      "metadata": {
        "colab": {
          "base_uri": "https://localhost:8080/"
        },
        "id": "dMEgxA5EVGk7",
        "outputId": "09976f4b-ca17-4a1b-b99f-2af3f3cdad9a"
      },
      "execution_count": 128,
      "outputs": [
        {
          "output_type": "stream",
          "name": "stdout",
          "text": [
            "AB1_Session1_Right14_Left14.npz: saved 38148 x (36, 5) points, 38148 (18, 10) analog\n"
          ]
        }
      ]
    },
    {
      "cell_type": "code",
      "source": [
        "indexList = [34, 2, 0, 1, 20, 26]\n",
        "b = np.load('AB1_Session1_Right14_Left14.npz')\n",
        "markerData = b['points']\n",
        "forceData = b['analog']\n",
        "\n",
        "# Extract all raw data into relevant marker and force data\n",
        "# Truncate data with a sync force plate (for session 1, extracting 6 min)\n",
        "force_sync = np.mean(forceData[:,14,:], axis=1)\n",
        "\n",
        "trial_time = 6\n",
        "start_idx = np.argwhere(abs(force_sync) > np.max(abs(force_sync))/2)[0,0]\n",
        "end_idx = start_idx + trial_time*6000\n",
        "\n",
        "foot_r = markerData[start_idx:end_idx, indexList[4], 0:3]\n",
        "foot_l = markerData[start_idx:end_idx, indexList[5], 0:3]\n",
        "com = np.mean(markerData[start_idx:end_idx, indexList[0:4], 0:3], axis=1)\n",
        "force_r = np.mean(forceData[start_idx:end_idx, 0:3, :], axis=2)\n",
        "force_l = np.mean(forceData[start_idx:end_idx, 6:9, :], axis=2)"
      ],
      "metadata": {
        "colab": {
          "base_uri": "https://localhost:8080/"
        },
        "id": "EGeXTcyLaAo0",
        "outputId": "18539a08-d391-480a-ae53-bbe238f20167"
      },
      "execution_count": 149,
      "outputs": [
        {
          "output_type": "stream",
          "name": "stdout",
          "text": [
            "(36000, 3)\n"
          ]
        }
      ]
    },
    {
      "cell_type": "code",
      "source": [
        "# Compute heel contact index for left and right leg\n",
        "# r_idx = np.argwhere(force_r[:,2] < -100)[:,0]\n",
        "\n",
        "# Obtain stance phase using force vector and compute heel contact index\n",
        "stance_r = np.where(force_r[:,2] < -100, 1, np.zeros(len(force_r[:,2])))\n",
        "stance_l = np.where(force_l[:,2] < -100, 1, np.zeros(len(force_l[:,2])))\n",
        "idx_heel_r = np.where(np.diff(stance_r) == 1)[0]\n",
        "idx_heel_l = np.where(np.diff(stance_l) == 1)[0]\n",
        "\n",
        "\n",
        "x = np.arange(len(new_vec))\n",
        "heel = np.ones(len(idx_heelcontact))*-100\n",
        "plt.plot(x, force_r[:,2])\n",
        "plt.plot(idx_heelcontact, heel,'o')\n",
        "plt.xlim(5000, 5500)\n"
      ],
      "metadata": {
        "id": "7DRVh3mVn9AU",
        "outputId": "79029de1-3d9f-4e8f-c512-a46ff0e3ff23",
        "colab": {
          "base_uri": "https://localhost:8080/",
          "height": 282
        }
      },
      "execution_count": 213,
      "outputs": [
        {
          "output_type": "execute_result",
          "data": {
            "text/plain": [
              "(5000.0, 5500.0)"
            ]
          },
          "metadata": {},
          "execution_count": 213
        },
        {
          "output_type": "display_data",
          "data": {
            "image/png": "[encoded data removed]",
            "text/plain": [
              "<Figure size 432x288 with 1 Axes>"
            ]
          },
          "metadata": {
            "needs_background": "light"
          }
        }
      ]
    },
    {
      "cell_type": "code",
      "source": [
        ""
      ],
      "metadata": {
        "id": "ihHFcx3Or7Pc"
      },
      "execution_count": null,
      "outputs": []
    }
  ]
}